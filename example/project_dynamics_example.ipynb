{
 "cells": [
  {
   "cell_type": "code",
   "execution_count": 1,
   "metadata": {},
   "outputs": [],
   "source": [
    "# Pluto imports\n",
    "import Pluto\n",
    "from Pluto import GLM as glm\n",
    "from Pluto import GLFW as glfw\n",
    "from Pluto import EventSystem\n",
    "from Pluto import RenderSystem\n",
    "from Pluto import Prefabs\n",
    "\n",
    "import HelperClasses\n",
    "from HelperClasses import Model\n",
    "from HelperClasses import Camera\n",
    "from HelperClasses import Light\n",
    "\n",
    "import threading\n",
    "import time\n",
    "import math\n",
    "import colorsys\n",
    "import numpy as np\n",
    "import scipy\n",
    "import scipy.linalg"
   ]
  },
  {
   "cell_type": "code",
   "execution_count": 2,
   "metadata": {},
   "outputs": [],
   "source": [
    "# Initialize Pluto\n",
    "Pluto.Initialize(True, False, []) # "
   ]
  },
  {
   "cell_type": "code",
   "execution_count": 3,
   "metadata": {},
   "outputs": [],
   "source": [
    "# Get System/Library Handles\n",
    "es = EventSystem.Get()\n",
    "rs = RenderSystem.Get()\n",
    "g = glfw.Get()\n",
    "\n",
    "quality = 1.\n",
    "cam = Prefabs.CreatePrefabCamera(\n",
    "   mode=\"arcball\", #can also be arcball \n",
    "   width = 1920//4, \n",
    "   height = 1080//4, \n",
    "   fov = 45, \n",
    "   msaa_samples = 1, \n",
    "   target = 10, \n",
    "   enable_depth_prepass = False)\n",
    "cam.transform.set_position(0.0, -5.0, 0.0)"
   ]
  },
  {
   "cell_type": "code",
   "execution_count": 4,
   "metadata": {},
   "outputs": [],
   "source": [
    "es.resize_window(\"prefab_window\", 640, 360)"
   ]
  },
  {
   "cell_type": "code",
   "execution_count": 5,
   "metadata": {},
   "outputs": [],
   "source": [
    "# Make a dome light\n",
    "rs.set_top_sky_color(glm.vec3(.01, .01, .01))\n",
    "rs.set_bottom_sky_color(glm.vec3(.01, .01, .01))\n",
    "rs.set_sky_transition(20.)\n",
    "rs.set_gamma(2.2)\n",
    "rs.set_exposure(1.0)"
   ]
  },
  {
   "cell_type": "code",
   "execution_count": 6,
   "metadata": {},
   "outputs": [],
   "source": [
    "# Make some lights\n",
    "MainLight = Light(\n",
    "    Pluto.Entity.Create(\"MainLight\"), \n",
    "    Pluto.Mesh.CreateBox(\"MainLight\"), \n",
    "    Pluto.Transform.Create(\"MainLight\"), \n",
    "    Pluto.Material.Create(\"MainLight\"), \n",
    "    Pluto.Light.Create(\"MainLight\"))"
   ]
  },
  {
   "cell_type": "code",
   "execution_count": 7,
   "metadata": {},
   "outputs": [],
   "source": [
    "MainLight.light.use_plane()\n",
    "MainLight.transform.set_position(0, 0, 3.0)\n",
    "MainLight.transform.set_scale(1., 1., .01)\n",
    "MainLight.light.set_temperature(4500)\n",
    "MainLight.light.set_intensity(10.0)\n",
    "MainLight.light.cast_shadows(True)\n",
    "MainLight.light.set_double_sided(True)\n",
    "MainLight.transform.set_rotation(0, glm.vec3(1.0, 0.0, 0.0))"
   ]
  },
  {
   "cell_type": "code",
   "execution_count": 8,
   "metadata": {},
   "outputs": [],
   "source": [
    "# Make floor\n",
    "floor = Model(Pluto.Entity.Create(str(0)), Pluto.Mesh.CreatePlane(\"Floor\"), Pluto.Transform.Create(str(0)), Pluto.Material.Create(str(0)))\n",
    "floor.transform.set_position(0.0, 0.0, -1.0)\n",
    "floor.transform.set_scale(1000.0, 1000.0, 1000.0)\n",
    "floor.material.set_base_color(1, 1, 1, 1.0)\n",
    "floor.material.set_roughness(.1) \n",
    "floor.material.set_metallic(.0)\n",
    "# floor.material.show_position()"
   ]
  },
  {
   "cell_type": "code",
   "execution_count": 9,
   "metadata": {},
   "outputs": [],
   "source": [
    "# Make Cloth\n",
    "size = 10\n",
    "positions = [None for _ in range(size*size)]\n",
    "normals = [None for _ in range(size*size)]\n",
    "colors = [None for _ in range(size*size)]\n",
    "texcoords = [None for _ in range(size*size)]\n",
    "indices = []\n",
    "edges = []\n",
    "rest_lengths = []\n",
    "\n",
    "for x in range(0, size):\n",
    "    for y in range(0, size):\n",
    "            positions[x*size + y] = (glm.vec3(x, y, 0) * 1.0 / size)\n",
    "            normals[x*size + y] = (glm.vec3(0,0,1))\n",
    "            texcoords[x*size + y] = (glm.vec2(x, y)* 1.0 / size)\n",
    "            colors[x*size + y] = (glm.vec4(1,1,1,1))\n",
    "\n",
    "off = 0\n",
    "for x in range(0, size-1):\n",
    "    for y in range(0, size-1):\n",
    "        i1 = (x) + (y) * size\n",
    "        i2 = (x + 1) + (y + 1) * size\n",
    "        i3 = (x) + (y + 1) * size\n",
    "        i4 = (x) + (y) * size\n",
    "        i5 = (x + 1) + (y) * size\n",
    "        i6 = (x + 1) + (y + 1) * size\n",
    "        indices.extend([i1,i3,i2,i4,i6,i5])\n",
    "        \n",
    "# Make an entity with a mesh we can edit        \n",
    "custom_mesh = Pluto.Mesh.CreateFromRaw(\"grid\", positions, normals, colors, texcoords, indices, edges, rest_lengths, True)\n",
    "custom_mesh.compute_simulation_matrices()\n",
    "custom_mesh.set_damping_factor(0.00001)\n",
    "model = Model(Pluto.Entity.Create(\"custom_mesh\"), custom_mesh, Pluto.Transform.Create(\"custom_mesh\"), Pluto.Material.Create(\"custom_mesh\"))\n",
    "model.transform.set_scale(2.0, 2.0, 2.0)\n",
    "model.material.set_roughness(0.3)\n",
    "model.material.set_metallic(0.0)\n",
    "model.material.set_base_color(1, 0, 0, 1)\n",
    "model.transform.set_position(-1.0, -1.0, 0.0)\n",
    "#model.material.show_normals()"
   ]
  },
  {
   "cell_type": "code",
   "execution_count": 10,
   "metadata": {},
   "outputs": [],
   "source": [
    "# Make spring constraints\n",
    "f_ext = glm.vec3(0.0,0.0,-9.8)\n",
    "\n",
    "mesh_height1 = .5\n",
    "mesh_height2 = .5\n",
    "mesh_height3 = .5\n",
    "mesh_height4 = .5\n",
    "stretch = 1.0\n"
   ]
  },
  {
   "cell_type": "code",
   "execution_count": 11,
   "metadata": {},
   "outputs": [
    {
     "name": "stdout",
     "output_type": "stream",
     "text": [
      "Press escape to quit\n",
      "Press alt+enter to go fullscreen\n"
     ]
    }
   ],
   "source": [
    "# Start interactive loop\n",
    "last_time = time.time()\n",
    "\n",
    "print(\"Press escape to quit\")\n",
    "print(\"Press alt+enter to go fullscreen\")\n",
    "def loop () :\n",
    "    global stop\n",
    "    global iteration\n",
    "    stop = False\n",
    "    \n",
    "    global mesh_height1\n",
    "    global mesh_height2\n",
    "    global mesh_height3\n",
    "    global mesh_height4\n",
    "\n",
    "    last_time = time.time()\n",
    "    iterations = 0\n",
    "\n",
    "    while g.get_key_action(\"prefab_window\", glfw.get_key_code(\"ESCAPE\")) == 0 and stop == False:\n",
    "        start_time = time.time()\n",
    "        if start_time - last_time > .01:\n",
    "            last_time = start_time\n",
    "\n",
    "            mesh_height1 = .0 + .1 * math.sin(last_time)\n",
    "            mesh_height2 = .1 + .1 * math.sin(last_time * 2.0)\n",
    "            mesh_height3 = .5 + .1 * math.sin(last_time * 3.0)\n",
    "            mesh_height4 = .6 + .1 * math.sin(last_time * 4.0)\n",
    "\n",
    "            custom_mesh.update()\n",
    "\n",
    "            # set anchors\n",
    "            custom_mesh.edit_position(0, glm.vec3(0.0, 0.0, mesh_height1))\n",
    "            custom_mesh.edit_position((size-1)*size, glm.vec3(stretch, 0.0, mesh_height2))\n",
    "            custom_mesh.edit_position(size-1, glm.vec3(0.0, stretch, mesh_height3))\n",
    "            custom_mesh.edit_position((size-1)*(size+1), glm.vec3(stretch, stretch, mesh_height4))\n",
    "            custom_mesh.edit_velocity(0, glm.vec3(0.0,0.0,0.0))\n",
    "            custom_mesh.edit_velocity((size-1)*size, glm.vec3(0.0,0.0,0.0))\n",
    "            custom_mesh.edit_velocity(size-1, glm.vec3(0.0,0.0,0.0))\n",
    "            custom_mesh.edit_velocity((size-1)*(size+1), glm.vec3(0.0,0.0,0.0))\n",
    "            \n",
    "            custom_mesh.compute_smooth_normals()\n",
    "        else :\n",
    "            time.sleep(.01)\n",
    "\n",
    "try:\n",
    "    stop = True\n",
    "    t.join()\n",
    "except NameError:\n",
    "    pass\n",
    "\n",
    "t = threading.Thread(target=loop)\n",
    "t.start()"
   ]
  },
  {
   "cell_type": "code",
   "execution_count": 16,
   "metadata": {},
   "outputs": [],
   "source": [
    "# we can set stiffness, mass and damping factor dynamically \n",
    "#custom_mesh.set_stiffness(100)\n",
    "#custom_mesh.set_mass(10)\n",
    "#custom_mesh.set_damping_factor(0.001)"
   ]
  }
 ],
 "metadata": {
  "kernelspec": {
   "display_name": "Pluto",
   "language": "Python 3",
   "name": "pluto"
  },
  "language_info": {
   "codemirror_mode": {
    "name": "ipython",
    "version": 3
   },
   "file_extension": ".py",
   "mimetype": "text/x-python",
   "name": "python",
   "nbconvert_exporter": "python",
   "pygments_lexer": "ipython3",
   "version": "3.7.3"
  }
 },
 "nbformat": 4,
 "nbformat_minor": 2
}
